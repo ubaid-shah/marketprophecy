{
 "cells": [
  {
   "cell_type": "code",
   "execution_count": 167,
   "id": "87118fa9",
   "metadata": {},
   "outputs": [],
   "source": [
    "import pandas as pd\n",
    "market = pd.read_csv('NASDAQ.csv',  na_values=['null'], index_col='Date', parse_dates=True, infer_datetime_format=True)"
   ]
  },
  {
   "cell_type": "code",
   "execution_count": 168,
   "id": "b8d211e7",
   "metadata": {},
   "outputs": [
    {
     "name": "stdout",
     "output_type": "stream",
     "text": [
      "Dataframe Shape:  (23, 6)\n",
      "                    Open          High           Low         Close  \\\n",
      "Date                                                                 \n",
      "2022-01-03  15732.500000  15832.799805  15644.089844  15832.799805   \n",
      "2022-01-04  15852.139648  15852.139648  15512.410156  15622.719727   \n",
      "2022-01-05  15547.160156  15586.299805  15095.179688  15100.169922   \n",
      "2022-01-06  15024.150391  15198.450195  14914.870117  15080.860352   \n",
      "2022-01-07  15095.719727  15171.019531  14877.629883  14935.900391   \n",
      "\n",
      "               Adj Close      Volume  \n",
      "Date                                  \n",
      "2022-01-03  15832.799805  4412130000  \n",
      "2022-01-04  15622.719727  5109270000  \n",
      "2022-01-05  15100.169922  5011990000  \n",
      "2022-01-06  15080.860352  4774740000  \n",
      "2022-01-07  14935.900391  4229270000  \n"
     ]
    }
   ],
   "source": [
    "print(\"Dataframe Shape: \", market. shape)\n",
    "print(market.head())"
   ]
  },
  {
   "cell_type": "code",
   "execution_count": 169,
   "id": "dc866ede",
   "metadata": {},
   "outputs": [
    {
     "data": {
      "text/plain": [
       "<AxesSubplot:xlabel='Date'>"
      ]
     },
     "execution_count": 169,
     "metadata": {},
     "output_type": "execute_result"
    },
    {
     "data": {
      "image/png": "[encoded data removed]",
      "text/plain": [
       "<Figure size 432x288 with 1 Axes>"
      ]
     },
     "metadata": {
      "needs_background": "light"
     },
     "output_type": "display_data"
    }
   ],
   "source": [
    "import matplotlib \n",
    "%matplotlib inline\n",
    "\n",
    "market['Adj Close'].plot()"
   ]
  },
  {
   "cell_type": "code",
   "execution_count": 170,
   "id": "d7d4e2b9",
   "metadata": {},
   "outputs": [],
   "source": [
    "# y - dependent variable, x - independent variable\n",
    "y = pd.DataFrame(market['Adj Close'])\n",
    "x = ['Open', 'High', 'Low', 'Volume']"
   ]
  },
  {
   "cell_type": "code",
   "execution_count": 171,
   "id": "5e3ca76b",
   "metadata": {},
   "outputs": [
    {
     "data": {
      "text/plain": [
       "(                Open      High       Low    Volume\n",
       " Date                                              \n",
       " 2022-01-03  0.950469  0.990730  1.000000  0.066405\n",
       " 2022-01-04  1.000000  1.000000  0.948350  0.319571\n",
       " 2022-01-05  0.873737  0.872574  0.784694  0.284244\n",
       " 2022-01-06  0.657208  0.686665  0.713969  0.198087\n",
       " 2022-01-07  0.686838  0.673516  0.699361  0.000000\n",
       " 2022-01-10  0.544446  0.569419  0.563096  0.390008\n",
       " 2022-01-11  0.613783  0.667616  0.683672  0.054251\n",
       " 2022-01-12  0.756134  0.744463  0.793366  0.033377\n",
       " 2022-01-13  0.748658  0.716029  0.661945  0.019537\n",
       " 2022-01-14  0.526329  0.542495  0.625541  0.042310\n",
       " 2022-01-18  0.515486  0.467173  0.544547  0.290054\n",
       " 2022-01-19  0.474247  0.428035  0.485205  0.149153\n",
       " 2022-01-20  0.424827  0.419954  0.410337  0.308379\n",
       " 2022-01-21  0.252340  0.194518  0.262642  0.587052\n",
       " 2022-01-24  0.018543  0.053062  0.000000  1.000000\n",
       " 2022-01-25  0.072103  0.007530  0.125317  0.273015\n",
       " 2022-01-26  0.180117  0.113478  0.116708  0.546583\n",
       " 2022-01-27  0.113553  0.000000  0.089435  0.336530\n",
       " 2022-01-28  0.000000  0.002876  0.055663  0.263897\n",
       " 2022-01-31  0.155451  0.228637  0.264003  0.320366\n",
       " 2022-02-01  0.348062  0.284140  0.382876  0.152955\n",
       " 2022-02-02  0.437918  0.354185  0.458924  0.151927\n",
       " 2022-02-03  0.252179  0.211856  0.296967  0.028042,\n",
       "            0\n",
       " 0   1.000000\n",
       " 1   0.915291\n",
       " 2   0.704587\n",
       " 3   0.696801\n",
       " 4   0.638350\n",
       " 5   0.641144\n",
       " 6   0.726071\n",
       " 7   0.740159\n",
       " 8   0.586298\n",
       " 9   0.621354\n",
       " 10  0.465367\n",
       " 11  0.398174\n",
       " 12  0.323078\n",
       " 13  0.167797\n",
       " 14  0.202559\n",
       " 15  0.075205\n",
       " 16  0.076346\n",
       " 17  0.000000\n",
       " 18  0.168462\n",
       " 19  0.357699\n",
       " 20  0.400489\n",
       " 21  0.429339\n",
       " 22  0.212111)"
      ]
     },
     "execution_count": 171,
     "metadata": {},
     "output_type": "execute_result"
    }
   ],
   "source": [
    "from sklearn.preprocessing import MinMaxScaler\n",
    "scaler = MinMaxScaler()\n",
    "scale_down = scaler.fit_transform(market[x])\n",
    "scale_down = pd.DataFrame(columns = x, data = scale_down, index = market.index)\n",
    "\n",
    "scaler = MinMaxScaler()\n",
    "y = scaler.fit_transform(y)\n",
    "y = pd.DataFrame(data = y)#, index = market.index)\n",
    "\n",
    "\n",
    "scale_down, y"
   ]
  },
  {
   "cell_type": "code",
   "execution_count": 172,
   "id": "b48c849f",
   "metadata": {},
   "outputs": [],
   "source": [
    "from sklearn.model_selection import TimeSeriesSplit\n",
    "ts = TimeSeriesSplit(n_splits = 10)\n",
    "for train_ind, test_ind in ts.split(scale_down):\n",
    "    xtr, xte = scale_down[:len(train_ind)], scale_down[len(train_ind):(len(train_ind)+len(test_ind))]\n",
    "    ytr, yte = y[:len(train_ind)].values.ravel(), y[len(train_ind):(len(train_ind)+len(test_ind))].values.ravel()"
   ]
  },
  {
   "cell_type": "code",
   "execution_count": 173,
   "id": "1d318ddd",
   "metadata": {},
   "outputs": [],
   "source": [
    "import numpy as np\n",
    "trainx = np.array(xtr)\n",
    "testx = np.array(xte)\n",
    "xtr = trainx.reshape(xtr.shape[0], 1, xtr.shape[1])\n",
    "xte = testx.reshape(xte.shape[0], 1, xte.shape[1])"
   ]
  },
  {
   "cell_type": "code",
   "execution_count": 174,
   "id": "98e6b79f",
   "metadata": {},
   "outputs": [
    {
     "data": {
      "text/plain": [
       "array([[[0.95046859, 0.99072976, 1.        , 0.06640544]],\n",
       "\n",
       "       [[1.        , 1.        , 0.94834955, 0.31957119]],\n",
       "\n",
       "       [[0.87373696, 0.87257402, 0.78469379, 0.28424405]],\n",
       "\n",
       "       [[0.6572083 , 0.68666465, 0.7139686 , 0.19808693]],\n",
       "\n",
       "       [[0.68683836, 0.67351621, 0.69936138, 0.        ]],\n",
       "\n",
       "       [[0.5444457 , 0.56941936, 0.56309636, 0.39000759]],\n",
       "\n",
       "       [[0.61378305, 0.66761582, 0.68367166, 0.05425084]],\n",
       "\n",
       "       [[0.75613447, 0.74446274, 0.79336642, 0.03337703]],\n",
       "\n",
       "       [[0.74865772, 0.71602851, 0.66194545, 0.01953742]],\n",
       "\n",
       "       [[0.52632854, 0.54249522, 0.62554115, 0.0423105 ]],\n",
       "\n",
       "       [[0.51548597, 0.4671729 , 0.54454717, 0.29005444]],\n",
       "\n",
       "       [[0.47424679, 0.42803512, 0.4852047 , 0.14915259]],\n",
       "\n",
       "       [[0.42482696, 0.41995385, 0.41033721, 0.30837894]],\n",
       "\n",
       "       [[0.2523401 , 0.19451818, 0.26264199, 0.58705228]],\n",
       "\n",
       "       [[0.0185433 , 0.05306233, 0.        , 1.        ]],\n",
       "\n",
       "       [[0.07210318, 0.00753031, 0.12531745, 0.27301548]],\n",
       "\n",
       "       [[0.18011684, 0.11347756, 0.11670802, 0.54658295]],\n",
       "\n",
       "       [[0.11355341, 0.        , 0.08943525, 0.33653026]],\n",
       "\n",
       "       [[0.        , 0.002876  , 0.05566289, 0.26389681]],\n",
       "\n",
       "       [[0.1554508 , 0.22863747, 0.26400296, 0.32036649]],\n",
       "\n",
       "       [[0.34806218, 0.28413953, 0.38287598, 0.15295476]]])"
      ]
     },
     "execution_count": 174,
     "metadata": {},
     "output_type": "execute_result"
    }
   ],
   "source": [
    "from keras.layers import LSTM, Dense, Dropout\n",
    "from keras.utils.vis_utils import plot_model\n",
    "from keras.models import Sequential\n",
    "\n",
    "lstm = Sequential()\n",
    "lstm.add(LSTM(32, input_shape=(1, trainx.shape[1]), activation='relu',return_sequences=False))\n",
    "lstm.add(Dense(1))\n",
    "lstm.compile(loss='mean_squared_error', optimizer='adam')\n",
    "xtr"
   ]
  },
  {
   "cell_type": "code",
   "execution_count": 175,
   "id": "839b00a0",
   "metadata": {},
   "outputs": [
    {
     "name": "stdout",
     "output_type": "stream",
     "text": [
      "Epoch 1/50\n",
      "3/3 [==============================] - 1s 5ms/step - loss: 0.2911\n",
      "Epoch 2/50\n",
      "3/3 [==============================] - 0s 8ms/step - loss: 0.2792\n",
      "Epoch 3/50\n",
      "3/3 [==============================] - 0s 8ms/step - loss: 0.2682\n",
      "Epoch 4/50\n",
      "3/3 [==============================] - 0s 14ms/step - loss: 0.2574\n",
      "Epoch 5/50\n",
      "3/3 [==============================] - 0s 12ms/step - loss: 0.2468\n",
      "Epoch 6/50\n",
      "3/3 [==============================] - 0s 12ms/step - loss: 0.2362\n",
      "Epoch 7/50\n",
      "3/3 [==============================] - 0s 9ms/step - loss: 0.2257\n",
      "Epoch 8/50\n",
      "3/3 [==============================] - 0s 7ms/step - loss: 0.2154\n",
      "Epoch 9/50\n",
      "3/3 [==============================] - 0s 5ms/step - loss: 0.2054\n",
      "Epoch 10/50\n",
      "3/3 [==============================] - 0s 5ms/step - loss: 0.1954\n",
      "Epoch 11/50\n",
      "3/3 [==============================] - 0s 4ms/step - loss: 0.1857\n",
      "Epoch 12/50\n",
      "3/3 [==============================] - 0s 6ms/step - loss: 0.1759\n",
      "Epoch 13/50\n",
      "3/3 [==============================] - 0s 9ms/step - loss: 0.1663\n",
      "Epoch 14/50\n",
      "3/3 [==============================] - 0s 9ms/step - loss: 0.1568\n",
      "Epoch 15/50\n",
      "3/3 [==============================] - 0s 9ms/step - loss: 0.1476\n",
      "Epoch 16/50\n",
      "3/3 [==============================] - 0s 9ms/step - loss: 0.1387\n",
      "Epoch 17/50\n",
      "3/3 [==============================] - 0s 5ms/step - loss: 0.1301\n",
      "Epoch 18/50\n",
      "3/3 [==============================] - 0s 4ms/step - loss: 0.1219\n",
      "Epoch 19/50\n",
      "3/3 [==============================] - 0s 6ms/step - loss: 0.1140\n",
      "Epoch 20/50\n",
      "3/3 [==============================] - 0s 4ms/step - loss: 0.1065\n",
      "Epoch 21/50\n",
      "3/3 [==============================] - 0s 4ms/step - loss: 0.0992\n",
      "Epoch 22/50\n",
      "3/3 [==============================] - 0s 4ms/step - loss: 0.0923\n",
      "Epoch 23/50\n",
      "3/3 [==============================] - 0s 4ms/step - loss: 0.0857\n",
      "Epoch 24/50\n",
      "3/3 [==============================] - 0s 4ms/step - loss: 0.0795\n",
      "Epoch 25/50\n",
      "3/3 [==============================] - 0s 4ms/step - loss: 0.0736\n",
      "Epoch 26/50\n",
      "3/3 [==============================] - 0s 4ms/step - loss: 0.0680\n",
      "Epoch 27/50\n",
      "3/3 [==============================] - 0s 4ms/step - loss: 0.0628\n",
      "Epoch 28/50\n",
      "3/3 [==============================] - 0s 5ms/step - loss: 0.0579\n",
      "Epoch 29/50\n",
      "3/3 [==============================] - 0s 4ms/step - loss: 0.0534\n",
      "Epoch 30/50\n",
      "3/3 [==============================] - 0s 5ms/step - loss: 0.0492\n",
      "Epoch 31/50\n",
      "3/3 [==============================] - 0s 4ms/step - loss: 0.0453\n",
      "Epoch 32/50\n",
      "3/3 [==============================] - 0s 4ms/step - loss: 0.0417\n",
      "Epoch 33/50\n",
      "3/3 [==============================] - 0s 5ms/step - loss: 0.0385\n",
      "Epoch 34/50\n",
      "3/3 [==============================] - 0s 4ms/step - loss: 0.0355\n",
      "Epoch 35/50\n",
      "3/3 [==============================] - 0s 5ms/step - loss: 0.0328\n",
      "Epoch 36/50\n",
      "3/3 [==============================] - 0s 5ms/step - loss: 0.0304\n",
      "Epoch 37/50\n",
      "3/3 [==============================] - 0s 5ms/step - loss: 0.0283\n",
      "Epoch 38/50\n",
      "3/3 [==============================] - 0s 3ms/step - loss: 0.0263\n",
      "Epoch 39/50\n",
      "3/3 [==============================] - 0s 5ms/step - loss: 0.0246\n",
      "Epoch 40/50\n",
      "3/3 [==============================] - 0s 7ms/step - loss: 0.0231\n",
      "Epoch 41/50\n",
      "3/3 [==============================] - 0s 9ms/step - loss: 0.0217\n",
      "Epoch 42/50\n",
      "3/3 [==============================] - 0s 7ms/step - loss: 0.0206\n",
      "Epoch 43/50\n",
      "3/3 [==============================] - 0s 8ms/step - loss: 0.0195\n",
      "Epoch 44/50\n",
      "3/3 [==============================] - 0s 9ms/step - loss: 0.0186\n",
      "Epoch 45/50\n",
      "3/3 [==============================] - 0s 10ms/step - loss: 0.0178\n",
      "Epoch 46/50\n",
      "3/3 [==============================] - 0s 15ms/step - loss: 0.0170\n",
      "Epoch 47/50\n",
      "3/3 [==============================] - 0s 5ms/step - loss: 0.0164\n",
      "Epoch 48/50\n",
      "3/3 [==============================] - 0s 6ms/step - loss: 0.0158\n",
      "Epoch 49/50\n",
      "3/3 [==============================] - 0s 5ms/step - loss: 0.0153\n",
      "Epoch 50/50\n",
      "3/3 [==============================] - 0s 6ms/step - loss: 0.0148\n"
     ]
    }
   ],
   "source": [
    "log=lstm.fit(xtr, ytr, epochs=50, batch_size=8, verbose=1, shuffle=False)"
   ]
  },
  {
   "cell_type": "code",
   "execution_count": 176,
   "id": "5ecfca2d",
   "metadata": {},
   "outputs": [
    {
     "data": {
      "text/plain": [
       "array([[[0.43791785, 0.3541845 , 0.45892441, 0.15192705]],\n",
       "\n",
       "       [[0.25217878, 0.21185564, 0.29696709, 0.02804237]]])"
      ]
     },
     "execution_count": 176,
     "metadata": {},
     "output_type": "execute_result"
    }
   ],
   "source": [
    "y_prediction= lstm.predict(xte)\n",
    "xte"
   ]
  },
  {
   "cell_type": "code",
   "execution_count": 177,
   "id": "edf8d555",
   "metadata": {},
   "outputs": [
    {
     "data": {
      "image/png": "[encoded data removed]",
      "text/plain": [
       "<Figure size 432x288 with 1 Axes>"
      ]
     },
     "metadata": {
      "needs_background": "light"
     },
     "output_type": "display_data"
    }
   ],
   "source": [
    "import matplotlib. pyplot as plt\n",
    "plt.plot(yte, label = 'True Value')\n",
    "plt.plot(y_prediction, label = 'Predicted Value')\n",
    "plt.title(\"Market Wizard Prediction\")\n",
    "plt.xlabel('Time Scale')\n",
    "plt.ylabel('Scaled USD')\n",
    "plt.legend()\n",
    "plt.show()"
   ]
  },
  {
   "cell_type": "code",
   "execution_count": 178,
   "id": "1897d7c6",
   "metadata": {},
   "outputs": [
    {
     "name": "stdout",
     "output_type": "stream",
     "text": [
      "[[[0.95046859 0.99072976 1.         0.06640544]]\n",
      "\n",
      " [[1.         1.         0.94834955 0.31957119]]\n",
      "\n",
      " [[0.87373696 0.87257402 0.78469379 0.28424405]]\n",
      "\n",
      " [[0.6572083  0.68666465 0.7139686  0.19808693]]\n",
      "\n",
      " [[0.68683836 0.67351621 0.69936138 0.        ]]\n",
      "\n",
      " [[0.5444457  0.56941936 0.56309636 0.39000759]]\n",
      "\n",
      " [[0.61378305 0.66761582 0.68367166 0.05425084]]\n",
      "\n",
      " [[0.75613447 0.74446274 0.79336642 0.03337703]]\n",
      "\n",
      " [[0.74865772 0.71602851 0.66194545 0.01953742]]\n",
      "\n",
      " [[0.52632854 0.54249522 0.62554115 0.0423105 ]]\n",
      "\n",
      " [[0.51548597 0.4671729  0.54454717 0.29005444]]\n",
      "\n",
      " [[0.47424679 0.42803512 0.4852047  0.14915259]]\n",
      "\n",
      " [[0.42482696 0.41995385 0.41033721 0.30837894]]\n",
      "\n",
      " [[0.2523401  0.19451818 0.26264199 0.58705228]]\n",
      "\n",
      " [[0.0185433  0.05306233 0.         1.        ]]\n",
      "\n",
      " [[0.07210318 0.00753031 0.12531745 0.27301548]]\n",
      "\n",
      " [[0.18011684 0.11347756 0.11670802 0.54658295]]\n",
      "\n",
      " [[0.11355341 0.         0.08943525 0.33653026]]\n",
      "\n",
      " [[0.         0.002876   0.05566289 0.26389681]]\n",
      "\n",
      " [[0.1554508  0.22863747 0.26400296 0.32036649]]\n",
      "\n",
      " [[0.34806218 0.28413953 0.38287598 0.15295476]]\n",
      "\n",
      " [[0.43791785 0.3541845  0.45892441 0.15192705]]\n",
      "\n",
      " [[0.25217878 0.21185564 0.29696709 0.02804237]]]            0\n",
      "0   1.000000\n",
      "1   0.915291\n",
      "2   0.704587\n",
      "3   0.696801\n",
      "4   0.638350\n",
      "5   0.641144\n",
      "6   0.726071\n",
      "7   0.740159\n",
      "8   0.586298\n",
      "9   0.621354\n",
      "10  0.465367\n",
      "11  0.398174\n",
      "12  0.323078\n",
      "13  0.167797\n",
      "14  0.202559\n",
      "15  0.075205\n",
      "16  0.076346\n",
      "17  0.000000\n",
      "18  0.168462\n",
      "19  0.357699\n",
      "20  0.400489\n",
      "21  0.429339\n",
      "22  0.212111\n"
     ]
    }
   ],
   "source": [
    "oot = pd.read_csv('NASDAQ_OOT.csv',  na_values=['null'], index_col='Date', parse_dates=True, infer_datetime_format=True)\n",
    "x = ['Open', 'High', 'Low', 'Volume']\n",
    "y = pd.DataFrame(oot['Adj Close'])\n",
    "\n",
    "scaler = MinMaxScaler()\n",
    "scale_down = scaler.fit_transform(oot[x])\n",
    "scale_down = pd.DataFrame(columns = x, data = scale_down, index = market.index)\n",
    "\n",
    "scaler = MinMaxScaler()\n",
    "y = scaler.fit_transform(y)\n",
    "y = pd.DataFrame(data = y)#, index = market.index)\n",
    "\n",
    "scale_down = np.array(scale_down)\n",
    "scale_down = scale_down.reshape(scale_down.shape[0],1,scale_down.shape[1])\n",
    "print(scale_down, y)\n",
    "\n",
    "#scale_down = np.array(scale_down).reshape(-1)\n",
    "y = np.array(y).reshape(-1)\n",
    "#sd = trainx.reshape(xtr.shape[0], 1, xtr.shape[1])\n",
    "#xte = testx.reshape(xte.shape[0], 1, xte.shape[1])\n",
    "\n",
    "out_of_time_prediction = lstm.predict(scale_down)\n",
    "\n"
   ]
  },
  {
   "cell_type": "code",
   "execution_count": 179,
   "id": "0e13bdf9",
   "metadata": {},
   "outputs": [
    {
     "data": {
      "image/png": "[encoded data removed]",
      "text/plain": [
       "<Figure size 432x288 with 1 Axes>"
      ]
     },
     "metadata": {
      "needs_background": "light"
     },
     "output_type": "display_data"
    }
   ],
   "source": [
    "import matplotlib. pyplot as plt\n",
    "plt.plot(y, label = 'True Value')\n",
    "plt.plot(out_of_time_prediction, label = 'Predicted Value')\n",
    "plt.title(\"Predicted future without training\")\n",
    "plt.xlabel('Time Scale')\n",
    "plt.ylabel('Scaled USD')\n",
    "plt.legend()\n",
    "plt.show()"
   ]
  },
  {
   "cell_type": "code",
   "execution_count": 203,
   "id": "e4916cb7",
   "metadata": {},
   "outputs": [
    {
     "name": "stdout",
     "output_type": "stream",
     "text": [
      "[0.80032223 0.83541095 0.7221023  0.6026877  0.5769881  0.53601354\n",
      " 0.5641197  0.63638854 0.5915115  0.50433165 0.49276182 0.44797903\n",
      " 0.43558964 0.3503825  0.2634505  0.23161793 0.28826344 0.2349135\n",
      " 0.2044886  0.3180551  0.3732878  0.42036033 0.31313264]\n",
      "[1.         0.91529096 0.70458705 0.696801   0.63834986 0.64114407\n",
      " 0.72607086 0.74015924 0.58629752 0.62135387 0.46536735 0.39817408\n",
      " 0.3230778  0.16779692 0.20255873 0.07520496 0.07634611 0.\n",
      " 0.1684624  0.35769864 0.40048867 0.42933917 0.21211125] \n",
      " \n",
      "\n",
      "Accuracy of this code is  0.5698907261025501\n"
     ]
    }
   ],
   "source": [
    "from sklearn.metrics import r2_score\n",
    "from sklearn.ensemble import RandomForestRegressor as rfr\n",
    "y = np.array(y).reshape(-1)\n",
    "out_of_time_prediction = np.array(out_of_time_prediction).reshape(-1)\n",
    "print(out_of_time_prediction)\n",
    "print(y,'\\n','\\n')\n",
    "\n",
    "print('Accuracy of this code is ',r2_score(out_of_time_prediction, y))"
   ]
  },
  {
   "cell_type": "code",
   "execution_count": null,
   "id": "8156960b",
   "metadata": {},
   "outputs": [],
   "source": []
  }
 ],
 "metadata": {
  "kernelspec": {
   "display_name": "Python 3 (ipykernel)",
   "language": "python",
   "name": "python3"
  },
  "language_info": {
   "codemirror_mode": {
    "name": "ipython",
    "version": 3
   },
   "file_extension": ".py",
   "mimetype": "text/x-python",
   "name": "python",
   "nbconvert_exporter": "python",
   "pygments_lexer": "ipython3",
   "version": "3.10.0"
  }
 },
 "nbformat": 4,
 "nbformat_minor": 5
}
