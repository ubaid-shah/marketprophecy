{
 "cells": [
  {
   "cell_type": "markdown",
   "id": "0c819dfd",
   "metadata": {},
   "source": [
    "**Name: Ubaid Shah <br>\n",
    "Email: ubaidhaina@gmail.com**\n",
    "\n",
    "\n",
    "I have analysed and predicted the NSE data. Detailed notebook with comments for your referance"
   ]
  },
  {
   "cell_type": "code",
   "execution_count": 1,
   "id": "bb1b9e81",
   "metadata": {},
   "outputs": [],
   "source": [
    "# Import all essential libraries\n",
    "\n",
    "\n",
    "import pandas as pd\n",
    "import numpy as np\n",
    "import matplotlib.pyplot as plt\n",
    "import math\n",
    "\n",
    "from keras.layers import Dense, Dropout, LSTM\n",
    "from keras.models import Sequential\n",
    "\n",
    "from sklearn.preprocessing import MinMaxScaler\n",
    "from sklearn.metrics import mean_squared_error, mean_absolute_error, mean_absolute_percentage_error, r2_score \n",
    "\n",
    "\n"
   ]
  },
  {
   "cell_type": "code",
   "execution_count": 7,
   "id": "98bc39b2",
   "metadata": {},
   "outputs": [],
   "source": [
    "# import train and test data\n",
    "\n",
    "train=pd.read_csv(r\"C:\\Users\\Ubaid Shah\\Predic_the_Market_Fluid_AI_Test\\NSE Data\\NSE Training Data - 1st Jan 2016 to 1st Jan 2022.csv\",index_col=0)\n",
    "train.index = pd.to_datetime(train.index)\n",
    "\n",
    "\n",
    "test=pd.read_csv(r\"C:\\Users\\Ubaid Shah\\Predic_the_Market_Fluid_AI_Test\\NSE Data\\NSE Out of Time Testing Data - 1st Jan 2022 to 4th Feb 2022.csv\",index_col=0)\n",
    "test.index = pd.to_datetime(test.index)\n"
   ]
  },
  {
   "cell_type": "code",
   "execution_count": 8,
   "id": "6d1cae87",
   "metadata": {},
   "outputs": [
    {
     "data": {
      "text/plain": [
       "((1481, 6), (23, 6))"
      ]
     },
     "execution_count": 8,
     "metadata": {},
     "output_type": "execute_result"
    }
   ],
   "source": [
    "train.shape,test.shape"
   ]
  },
  {
   "cell_type": "code",
   "execution_count": 9,
   "id": "24b66f7c",
   "metadata": {
    "scrolled": true
   },
   "outputs": [
    {
     "data": {
      "text/html": [
       "<div>\n",
       "<style scoped>\n",
       "    .dataframe tbody tr th:only-of-type {\n",
       "        vertical-align: middle;\n",
       "    }\n",
       "\n",
       "    .dataframe tbody tr th {\n",
       "        vertical-align: top;\n",
       "    }\n",
       "\n",
       "    .dataframe thead th {\n",
       "        text-align: right;\n",
       "    }\n",
       "</style>\n",
       "<table border=\"1\" class=\"dataframe\">\n",
       "  <thead>\n",
       "    <tr style=\"text-align: right;\">\n",
       "      <th></th>\n",
       "      <th>Open</th>\n",
       "      <th>High</th>\n",
       "      <th>Low</th>\n",
       "      <th>Close</th>\n",
       "      <th>Adj Close</th>\n",
       "      <th>Volume</th>\n",
       "    </tr>\n",
       "    <tr>\n",
       "      <th>Date</th>\n",
       "      <th></th>\n",
       "      <th></th>\n",
       "      <th></th>\n",
       "      <th></th>\n",
       "      <th></th>\n",
       "      <th></th>\n",
       "    </tr>\n",
       "  </thead>\n",
       "  <tbody>\n",
       "    <tr>\n",
       "      <th>2016-01-04</th>\n",
       "      <td>7924.549805</td>\n",
       "      <td>7937.549805</td>\n",
       "      <td>7781.100098</td>\n",
       "      <td>7791.299805</td>\n",
       "      <td>7791.299805</td>\n",
       "      <td>134700.0</td>\n",
       "    </tr>\n",
       "    <tr>\n",
       "      <th>2016-01-05</th>\n",
       "      <td>7828.399902</td>\n",
       "      <td>7831.200195</td>\n",
       "      <td>7763.250000</td>\n",
       "      <td>7784.649902</td>\n",
       "      <td>7784.649902</td>\n",
       "      <td>145200.0</td>\n",
       "    </tr>\n",
       "    <tr>\n",
       "      <th>2016-01-06</th>\n",
       "      <td>7788.049805</td>\n",
       "      <td>7800.950195</td>\n",
       "      <td>7721.200195</td>\n",
       "      <td>7741.000000</td>\n",
       "      <td>7741.000000</td>\n",
       "      <td>147100.0</td>\n",
       "    </tr>\n",
       "    <tr>\n",
       "      <th>2016-01-07</th>\n",
       "      <td>7673.350098</td>\n",
       "      <td>7674.950195</td>\n",
       "      <td>7556.600098</td>\n",
       "      <td>7568.299805</td>\n",
       "      <td>7568.299805</td>\n",
       "      <td>188900.0</td>\n",
       "    </tr>\n",
       "    <tr>\n",
       "      <th>2016-01-08</th>\n",
       "      <td>7611.649902</td>\n",
       "      <td>7634.100098</td>\n",
       "      <td>7581.049805</td>\n",
       "      <td>7601.350098</td>\n",
       "      <td>7601.350098</td>\n",
       "      <td>157400.0</td>\n",
       "    </tr>\n",
       "  </tbody>\n",
       "</table>\n",
       "</div>"
      ],
      "text/plain": [
       "                   Open         High          Low        Close    Adj Close  \\\n",
       "Date                                                                          \n",
       "2016-01-04  7924.549805  7937.549805  7781.100098  7791.299805  7791.299805   \n",
       "2016-01-05  7828.399902  7831.200195  7763.250000  7784.649902  7784.649902   \n",
       "2016-01-06  7788.049805  7800.950195  7721.200195  7741.000000  7741.000000   \n",
       "2016-01-07  7673.350098  7674.950195  7556.600098  7568.299805  7568.299805   \n",
       "2016-01-08  7611.649902  7634.100098  7581.049805  7601.350098  7601.350098   \n",
       "\n",
       "              Volume  \n",
       "Date                  \n",
       "2016-01-04  134700.0  \n",
       "2016-01-05  145200.0  \n",
       "2016-01-06  147100.0  \n",
       "2016-01-07  188900.0  \n",
       "2016-01-08  157400.0  "
      ]
     },
     "execution_count": 9,
     "metadata": {},
     "output_type": "execute_result"
    }
   ],
   "source": [
    "train.head()"
   ]
  },
  {
   "cell_type": "code",
   "execution_count": 10,
   "id": "61f23a82",
   "metadata": {},
   "outputs": [
    {
     "data": {
      "text/html": [
       "<div>\n",
       "<style scoped>\n",
       "    .dataframe tbody tr th:only-of-type {\n",
       "        vertical-align: middle;\n",
       "    }\n",
       "\n",
       "    .dataframe tbody tr th {\n",
       "        vertical-align: top;\n",
       "    }\n",
       "\n",
       "    .dataframe thead th {\n",
       "        text-align: right;\n",
       "    }\n",
       "</style>\n",
       "<table border=\"1\" class=\"dataframe\">\n",
       "  <thead>\n",
       "    <tr style=\"text-align: right;\">\n",
       "      <th></th>\n",
       "      <th>Open</th>\n",
       "      <th>High</th>\n",
       "      <th>Low</th>\n",
       "      <th>Close</th>\n",
       "      <th>Adj Close</th>\n",
       "      <th>Volume</th>\n",
       "    </tr>\n",
       "    <tr>\n",
       "      <th>Date</th>\n",
       "      <th></th>\n",
       "      <th></th>\n",
       "      <th></th>\n",
       "      <th></th>\n",
       "      <th></th>\n",
       "      <th></th>\n",
       "    </tr>\n",
       "  </thead>\n",
       "  <tbody>\n",
       "    <tr>\n",
       "      <th>2022-01-03</th>\n",
       "      <td>17387.150391</td>\n",
       "      <td>17646.650391</td>\n",
       "      <td>17383.300781</td>\n",
       "      <td>17625.699219</td>\n",
       "      <td>17625.699219</td>\n",
       "      <td>200500</td>\n",
       "    </tr>\n",
       "    <tr>\n",
       "      <th>2022-01-04</th>\n",
       "      <td>17681.400391</td>\n",
       "      <td>17827.599609</td>\n",
       "      <td>17593.550781</td>\n",
       "      <td>17805.250000</td>\n",
       "      <td>17805.250000</td>\n",
       "      <td>247400</td>\n",
       "    </tr>\n",
       "    <tr>\n",
       "      <th>2022-01-05</th>\n",
       "      <td>17820.099609</td>\n",
       "      <td>17944.699219</td>\n",
       "      <td>17748.849609</td>\n",
       "      <td>17925.250000</td>\n",
       "      <td>17925.250000</td>\n",
       "      <td>251500</td>\n",
       "    </tr>\n",
       "    <tr>\n",
       "      <th>2022-01-06</th>\n",
       "      <td>17768.500000</td>\n",
       "      <td>17797.949219</td>\n",
       "      <td>17655.550781</td>\n",
       "      <td>17745.900391</td>\n",
       "      <td>17745.900391</td>\n",
       "      <td>236500</td>\n",
       "    </tr>\n",
       "    <tr>\n",
       "      <th>2022-01-07</th>\n",
       "      <td>17797.599609</td>\n",
       "      <td>17905.000000</td>\n",
       "      <td>17704.550781</td>\n",
       "      <td>17812.699219</td>\n",
       "      <td>17812.699219</td>\n",
       "      <td>239300</td>\n",
       "    </tr>\n",
       "  </tbody>\n",
       "</table>\n",
       "</div>"
      ],
      "text/plain": [
       "                    Open          High           Low         Close  \\\n",
       "Date                                                                 \n",
       "2022-01-03  17387.150391  17646.650391  17383.300781  17625.699219   \n",
       "2022-01-04  17681.400391  17827.599609  17593.550781  17805.250000   \n",
       "2022-01-05  17820.099609  17944.699219  17748.849609  17925.250000   \n",
       "2022-01-06  17768.500000  17797.949219  17655.550781  17745.900391   \n",
       "2022-01-07  17797.599609  17905.000000  17704.550781  17812.699219   \n",
       "\n",
       "               Adj Close  Volume  \n",
       "Date                              \n",
       "2022-01-03  17625.699219  200500  \n",
       "2022-01-04  17805.250000  247400  \n",
       "2022-01-05  17925.250000  251500  \n",
       "2022-01-06  17745.900391  236500  \n",
       "2022-01-07  17812.699219  239300  "
      ]
     },
     "execution_count": 10,
     "metadata": {},
     "output_type": "execute_result"
    }
   ],
   "source": [
    "test.head()"
   ]
  },
  {
   "cell_type": "code",
   "execution_count": 11,
   "id": "7e9a8cd1",
   "metadata": {},
   "outputs": [
    {
     "data": {
      "image/png": "[encoded data removed]",
      "text/plain": [
       "<Figure size 1152x576 with 1 Axes>"
      ]
     },
     "metadata": {
      "needs_background": "light"
     },
     "output_type": "display_data"
    }
   ],
   "source": [
    "# Plot Closing price\n",
    "\n",
    "plt.figure(figsize=(16,8))\n",
    "plt.title(\"Close Price\")\n",
    "\n",
    "plt.xlabel(\"Date\",fontsize=18)\n",
    "plt.ylabel(\"Close Price\",fontsize=18)\n",
    "plt.plot(train[\"Close\"])\n",
    "plt.show()"
   ]
  },
  {
   "cell_type": "code",
   "execution_count": 12,
   "id": "29b76992",
   "metadata": {},
   "outputs": [
    {
     "data": {
      "text/plain": [
       "True"
      ]
     },
     "execution_count": 12,
     "metadata": {},
     "output_type": "execute_result"
    }
   ],
   "source": [
    "# check if there is any null value in data set\n",
    "\n",
    "train[\"Close\"].isnull().any()"
   ]
  },
  {
   "cell_type": "code",
   "execution_count": 13,
   "id": "a89854f2",
   "metadata": {},
   "outputs": [
    {
     "data": {
      "text/html": [
       "<div>\n",
       "<style scoped>\n",
       "    .dataframe tbody tr th:only-of-type {\n",
       "        vertical-align: middle;\n",
       "    }\n",
       "\n",
       "    .dataframe tbody tr th {\n",
       "        vertical-align: top;\n",
       "    }\n",
       "\n",
       "    .dataframe thead th {\n",
       "        text-align: right;\n",
       "    }\n",
       "</style>\n",
       "<table border=\"1\" class=\"dataframe\">\n",
       "  <thead>\n",
       "    <tr style=\"text-align: right;\">\n",
       "      <th></th>\n",
       "      <th>Open</th>\n",
       "      <th>High</th>\n",
       "      <th>Low</th>\n",
       "      <th>Close</th>\n",
       "      <th>Adj Close</th>\n",
       "      <th>Volume</th>\n",
       "    </tr>\n",
       "    <tr>\n",
       "      <th>Date</th>\n",
       "      <th></th>\n",
       "      <th></th>\n",
       "      <th></th>\n",
       "      <th></th>\n",
       "      <th></th>\n",
       "      <th></th>\n",
       "    </tr>\n",
       "  </thead>\n",
       "  <tbody>\n",
       "    <tr>\n",
       "      <th>2016-01-04</th>\n",
       "      <td>7924.549805</td>\n",
       "      <td>7937.549805</td>\n",
       "      <td>7781.100098</td>\n",
       "      <td>7791.299805</td>\n",
       "      <td>7791.299805</td>\n",
       "      <td>134700.0</td>\n",
       "    </tr>\n",
       "    <tr>\n",
       "      <th>2016-01-05</th>\n",
       "      <td>7828.399902</td>\n",
       "      <td>7831.200195</td>\n",
       "      <td>7763.250000</td>\n",
       "      <td>7784.649902</td>\n",
       "      <td>7784.649902</td>\n",
       "      <td>145200.0</td>\n",
       "    </tr>\n",
       "    <tr>\n",
       "      <th>2016-01-06</th>\n",
       "      <td>7788.049805</td>\n",
       "      <td>7800.950195</td>\n",
       "      <td>7721.200195</td>\n",
       "      <td>7741.000000</td>\n",
       "      <td>7741.000000</td>\n",
       "      <td>147100.0</td>\n",
       "    </tr>\n",
       "    <tr>\n",
       "      <th>2016-01-07</th>\n",
       "      <td>7673.350098</td>\n",
       "      <td>7674.950195</td>\n",
       "      <td>7556.600098</td>\n",
       "      <td>7568.299805</td>\n",
       "      <td>7568.299805</td>\n",
       "      <td>188900.0</td>\n",
       "    </tr>\n",
       "    <tr>\n",
       "      <th>2016-01-08</th>\n",
       "      <td>7611.649902</td>\n",
       "      <td>7634.100098</td>\n",
       "      <td>7581.049805</td>\n",
       "      <td>7601.350098</td>\n",
       "      <td>7601.350098</td>\n",
       "      <td>157400.0</td>\n",
       "    </tr>\n",
       "    <tr>\n",
       "      <th>...</th>\n",
       "      <td>...</td>\n",
       "      <td>...</td>\n",
       "      <td>...</td>\n",
       "      <td>...</td>\n",
       "      <td>...</td>\n",
       "      <td>...</td>\n",
       "    </tr>\n",
       "    <tr>\n",
       "      <th>2021-12-27</th>\n",
       "      <td>16937.750000</td>\n",
       "      <td>17112.050781</td>\n",
       "      <td>16833.199219</td>\n",
       "      <td>17086.250000</td>\n",
       "      <td>17086.250000</td>\n",
       "      <td>144800.0</td>\n",
       "    </tr>\n",
       "    <tr>\n",
       "      <th>2021-12-28</th>\n",
       "      <td>17177.599609</td>\n",
       "      <td>17250.250000</td>\n",
       "      <td>17161.150391</td>\n",
       "      <td>17233.250000</td>\n",
       "      <td>17233.250000</td>\n",
       "      <td>176000.0</td>\n",
       "    </tr>\n",
       "    <tr>\n",
       "      <th>2021-12-29</th>\n",
       "      <td>17220.099609</td>\n",
       "      <td>17285.949219</td>\n",
       "      <td>17176.650391</td>\n",
       "      <td>17213.599609</td>\n",
       "      <td>17213.599609</td>\n",
       "      <td>161700.0</td>\n",
       "    </tr>\n",
       "    <tr>\n",
       "      <th>2021-12-30</th>\n",
       "      <td>17201.449219</td>\n",
       "      <td>17264.050781</td>\n",
       "      <td>17146.349609</td>\n",
       "      <td>17203.949219</td>\n",
       "      <td>17203.949219</td>\n",
       "      <td>320800.0</td>\n",
       "    </tr>\n",
       "    <tr>\n",
       "      <th>2021-12-31</th>\n",
       "      <td>17244.500000</td>\n",
       "      <td>17400.800781</td>\n",
       "      <td>17238.500000</td>\n",
       "      <td>17354.050781</td>\n",
       "      <td>17354.050781</td>\n",
       "      <td>167000.0</td>\n",
       "    </tr>\n",
       "  </tbody>\n",
       "</table>\n",
       "<p>1475 rows × 6 columns</p>\n",
       "</div>"
      ],
      "text/plain": [
       "                    Open          High           Low         Close  \\\n",
       "Date                                                                 \n",
       "2016-01-04   7924.549805   7937.549805   7781.100098   7791.299805   \n",
       "2016-01-05   7828.399902   7831.200195   7763.250000   7784.649902   \n",
       "2016-01-06   7788.049805   7800.950195   7721.200195   7741.000000   \n",
       "2016-01-07   7673.350098   7674.950195   7556.600098   7568.299805   \n",
       "2016-01-08   7611.649902   7634.100098   7581.049805   7601.350098   \n",
       "...                  ...           ...           ...           ...   \n",
       "2021-12-27  16937.750000  17112.050781  16833.199219  17086.250000   \n",
       "2021-12-28  17177.599609  17250.250000  17161.150391  17233.250000   \n",
       "2021-12-29  17220.099609  17285.949219  17176.650391  17213.599609   \n",
       "2021-12-30  17201.449219  17264.050781  17146.349609  17203.949219   \n",
       "2021-12-31  17244.500000  17400.800781  17238.500000  17354.050781   \n",
       "\n",
       "               Adj Close    Volume  \n",
       "Date                                \n",
       "2016-01-04   7791.299805  134700.0  \n",
       "2016-01-05   7784.649902  145200.0  \n",
       "2016-01-06   7741.000000  147100.0  \n",
       "2016-01-07   7568.299805  188900.0  \n",
       "2016-01-08   7601.350098  157400.0  \n",
       "...                  ...       ...  \n",
       "2021-12-27  17086.250000  144800.0  \n",
       "2021-12-28  17233.250000  176000.0  \n",
       "2021-12-29  17213.599609  161700.0  \n",
       "2021-12-30  17203.949219  320800.0  \n",
       "2021-12-31  17354.050781  167000.0  \n",
       "\n",
       "[1475 rows x 6 columns]"
      ]
     },
     "execution_count": 13,
     "metadata": {},
     "output_type": "execute_result"
    }
   ],
   "source": [
    "# see differance after droping the null values\n",
    "train.dropna()"
   ]
  },
  {
   "cell_type": "code",
   "execution_count": 14,
   "id": "2132e032",
   "metadata": {},
   "outputs": [
    {
     "data": {
      "text/plain": [
       "array([[ 7791.299805],\n",
       "       [ 7784.649902],\n",
       "       [ 7741.      ],\n",
       "       ...,\n",
       "       [17213.599609],\n",
       "       [17203.949219],\n",
       "       [17354.050781]])"
      ]
     },
     "execution_count": 14,
     "metadata": {},
     "output_type": "execute_result"
    }
   ],
   "source": [
    "# Use only Closing price for prediction\n",
    "\n",
    "close_data=train.filter([\"Close\"]).dropna()\n",
    "train_close_data=close_data.values\n",
    "train_close_data\n",
    "# test_close=pd.DataFrame(test[\"Close\"].dropna())\n"
   ]
  },
  {
   "cell_type": "code",
   "execution_count": 15,
   "id": "21b47424",
   "metadata": {
    "scrolled": true
   },
   "outputs": [
    {
     "data": {
      "text/plain": [
       "(1475, 1)"
      ]
     },
     "execution_count": 15,
     "metadata": {},
     "output_type": "execute_result"
    }
   ],
   "source": [
    "train_close_data.shape"
   ]
  },
  {
   "cell_type": "code",
   "execution_count": 16,
   "id": "c87e7df6",
   "metadata": {},
   "outputs": [
    {
     "data": {
      "text/plain": [
       "1033"
      ]
     },
     "execution_count": 16,
     "metadata": {},
     "output_type": "execute_result"
    }
   ],
   "source": [
    "# split the data for training and validation purpose\n",
    "training_data_size=math.ceil(len(train_close_data)*0.7)\n",
    "training_data_size"
   ]
  },
  {
   "cell_type": "code",
   "execution_count": 17,
   "id": "f6a8895f",
   "metadata": {},
   "outputs": [],
   "source": [
    "# Scale down the values of closing price between 0 and 1\n",
    "\n",
    "scaler=MinMaxScaler(feature_range=(0,1))"
   ]
  },
  {
   "cell_type": "code",
   "execution_count": 18,
   "id": "d1221d64",
   "metadata": {},
   "outputs": [],
   "source": [
    "scaled_training_array=scaler.fit_transform(train_close_data)"
   ]
  },
  {
   "cell_type": "code",
   "execution_count": 19,
   "id": "496125e2",
   "metadata": {
    "scrolled": true
   },
   "outputs": [
    {
     "data": {
      "text/plain": [
       "array([[0.07132518],\n",
       "       [0.07074726],\n",
       "       [0.06695374],\n",
       "       ...,\n",
       "       [0.89019627],\n",
       "       [0.88935758],\n",
       "       [0.90240257]])"
      ]
     },
     "execution_count": 19,
     "metadata": {},
     "output_type": "execute_result"
    }
   ],
   "source": [
    "scaled_training_array"
   ]
  },
  {
   "cell_type": "code",
   "execution_count": 20,
   "id": "740e8236",
   "metadata": {},
   "outputs": [],
   "source": [
    "train_data=scaled_training_array[0:training_data_size,:]"
   ]
  },
  {
   "cell_type": "code",
   "execution_count": 21,
   "id": "172c5086",
   "metadata": {},
   "outputs": [
    {
     "data": {
      "text/plain": [
       "1033"
      ]
     },
     "execution_count": 21,
     "metadata": {},
     "output_type": "execute_result"
    }
   ],
   "source": [
    "len(train_data)"
   ]
  },
  {
   "cell_type": "code",
   "execution_count": 22,
   "id": "db17f84c",
   "metadata": {},
   "outputs": [
    {
     "data": {
      "text/plain": [
       "array([[0.07132518],\n",
       "       [0.07074726],\n",
       "       [0.06695374],\n",
       "       ...,\n",
       "       [0.173507  ],\n",
       "       [0.1302052 ],\n",
       "       [0.11235872]])"
      ]
     },
     "execution_count": 22,
     "metadata": {},
     "output_type": "execute_result"
    }
   ],
   "source": [
    "train_data"
   ]
  },
  {
   "cell_type": "code",
   "execution_count": 23,
   "id": "8c806e9d",
   "metadata": {},
   "outputs": [
    {
     "name": "stdout",
     "output_type": "stream",
     "text": [
      "[array([0.07132518, 0.07074726, 0.06695374, 0.05194475, 0.05481708,\n",
      "       0.05155804, 0.0469041 , 0.051432  , 0.04920716, 0.04060329,\n",
      "       0.03305971, 0.04036866, 0.02943564, 0.02661113, 0.03926929,\n",
      "       0.0404599 , 0.04059896, 0.03946046, 0.05153194, 0.05087147,\n",
      "       0.0421459 , 0.0339983 , 0.03766582, 0.04506168, 0.03621011,\n",
      "       0.02847099, 0.0213011 , 0.00049972, 0.0008995 , 0.01671672,\n",
      "       0.00674838, 0.01198024, 0.01921965, 0.02087089, 0.02293928,\n",
      "       0.01207581, 0.00418027, 0.        , 0.00514059, 0.00142961,\n",
      "       0.02187466, 0.03461102, 0.04388843, 0.04473578, 0.04473141,\n",
      "       0.04877262, 0.04480529, 0.04689544, 0.04937664, 0.04258481,\n",
      "       0.04590033, 0.04709964, 0.0550778 , 0.06375988, 0.06468544,\n",
      "       0.0648245 , 0.05601206, 0.05443902, 0.06644969, 0.06672777,\n",
      "       0.06452465, 0.06850068, 0.05497787, 0.05594688, 0.05004585,\n",
      "       0.05080629, 0.06090495, 0.06416836, 0.07646581, 0.08204964,\n",
      "       0.08205397, 0.0818193 , 0.08071122, 0.07686555, 0.08621684,\n",
      "       0.087716  , 0.07618769, 0.07640929, 0.07259405, 0.06747519,\n",
      "       0.06395975, 0.06647575, 0.0662976 , 0.07782154, 0.07971178,\n",
      "       0.07632675, 0.08080683, 0.07337622, 0.07736095, 0.07996818,\n",
      "       0.07817787, 0.07063862, 0.06770985, 0.06608899, 0.06763597,\n",
      "       0.08380515, 0.09551597, 0.10307695, 0.10497589, 0.1033768 ])]\n",
      "[0.10510192328784174]\n"
     ]
    }
   ],
   "source": [
    "# Create an array for traing\n",
    "\n",
    "x_train=[]\n",
    "y_train=[]\n",
    "\n",
    "for i in range(100,len(train_data)):\n",
    "    x_train.append(train_data[i-100:i,0])\n",
    "    y_train.append(train_data[i,0])\n",
    "    \n",
    "    if i<=100:\n",
    "        print(x_train)\n",
    "        print(y_train)\n",
    "    \n",
    "    \n"
   ]
  },
  {
   "cell_type": "code",
   "execution_count": 24,
   "id": "a357142a",
   "metadata": {},
   "outputs": [],
   "source": [
    "x_train,y_train=np.array(x_train),np.array(y_train)"
   ]
  },
  {
   "cell_type": "code",
   "execution_count": 25,
   "id": "8a1040dc",
   "metadata": {},
   "outputs": [
    {
     "data": {
      "text/plain": [
       "(933, 100)"
      ]
     },
     "execution_count": 25,
     "metadata": {},
     "output_type": "execute_result"
    }
   ],
   "source": [
    "x_train.shape"
   ]
  },
  {
   "cell_type": "code",
   "execution_count": 26,
   "id": "ce57f0f9",
   "metadata": {},
   "outputs": [
    {
     "data": {
      "text/plain": [
       "(933, 100, 1)"
      ]
     },
     "execution_count": 26,
     "metadata": {},
     "output_type": "execute_result"
    }
   ],
   "source": [
    "# Reshape Numpy Array for LSTM since it considor a Tensor that is 3D array\n",
    "\n",
    "x_train=np.reshape(x_train,(x_train.shape[0],x_train.shape[1],1))\n",
    "x_train.shape"
   ]
  },
  {
   "cell_type": "code",
   "execution_count": 27,
   "id": "af28c134",
   "metadata": {},
   "outputs": [],
   "source": [
    "# Create a LSTM model for training\n",
    "model=Sequential()\n",
    "model.add(LSTM(units=50,return_sequences=True,\n",
    "              input_shape=(x_train.shape[1],1)))\n",
    "\n",
    "\n",
    "model.add(LSTM(units=50,return_sequences=False))\n",
    "model.add(Dense(units=25))\n",
    "\n",
    "model.add(Dense(units=1))\n"
   ]
  },
  {
   "cell_type": "code",
   "execution_count": 28,
   "id": "1580a9f9",
   "metadata": {},
   "outputs": [
    {
     "name": "stdout",
     "output_type": "stream",
     "text": [
      "Model: \"sequential\"\n",
      "_________________________________________________________________\n",
      " Layer (type)                Output Shape              Param #   \n",
      "=================================================================\n",
      " lstm (LSTM)                 (None, 100, 50)           10400     \n",
      "                                                                 \n",
      " lstm_1 (LSTM)               (None, 50)                20200     \n",
      "                                                                 \n",
      " dense (Dense)               (None, 25)                1275      \n",
      "                                                                 \n",
      " dense_1 (Dense)             (None, 1)                 26        \n",
      "                                                                 \n",
      "=================================================================\n",
      "Total params: 31,901\n",
      "Trainable params: 31,901\n",
      "Non-trainable params: 0\n",
      "_________________________________________________________________\n"
     ]
    }
   ],
   "source": [
    "model.summary()"
   ]
  },
  {
   "cell_type": "code",
   "execution_count": 29,
   "id": "9237d5cd",
   "metadata": {},
   "outputs": [
    {
     "name": "stdout",
     "output_type": "stream",
     "text": [
      "933/933 [==============================] - 31s 30ms/step - loss: 0.0013\n"
     ]
    },
    {
     "data": {
      "text/plain": [
       "<keras.callbacks.History at 0x1bc1e4d90a0>"
      ]
     },
     "execution_count": 29,
     "metadata": {},
     "output_type": "execute_result"
    }
   ],
   "source": [
    "# Compile the model in LSTM and run the training\n",
    "model.compile(optimizer=\"adam\",loss=\"mean_squared_error\")\n",
    "\n",
    "model.fit(x_train,y_train,batch_size=1,epochs=1)"
   ]
  },
  {
   "cell_type": "code",
   "execution_count": 30,
   "id": "a7c80df4",
   "metadata": {},
   "outputs": [],
   "source": [
    "test_data=scaled_training_array[training_data_size-100:,:]"
   ]
  },
  {
   "cell_type": "code",
   "execution_count": 31,
   "id": "6b727e92",
   "metadata": {},
   "outputs": [
    {
     "data": {
      "text/plain": [
       "542"
      ]
     },
     "execution_count": 31,
     "metadata": {},
     "output_type": "execute_result"
    }
   ],
   "source": [
    "len(test_data)"
   ]
  },
  {
   "cell_type": "code",
   "execution_count": 32,
   "id": "68798b12",
   "metadata": {},
   "outputs": [],
   "source": [
    "# Take the values from train model for primary testing\n",
    "\n",
    "x_test=[]\n",
    "y_test=train_close_data[training_data_size:,:]\n",
    "\n",
    "for i in range(100,len(test_data)):\n",
    "    x_test.append(test_data[i-100:i,0])"
   ]
  },
  {
   "cell_type": "code",
   "execution_count": 33,
   "id": "62ac5d1c",
   "metadata": {},
   "outputs": [],
   "source": [
    "x_test=np.array(x_test)"
   ]
  },
  {
   "cell_type": "code",
   "execution_count": 34,
   "id": "1af0c59f",
   "metadata": {},
   "outputs": [],
   "source": [
    "x_test=np.reshape(x_test,(x_test.shape[0],x_test.shape[1],1))"
   ]
  },
  {
   "cell_type": "code",
   "execution_count": 35,
   "id": "c0f85121",
   "metadata": {},
   "outputs": [
    {
     "data": {
      "text/plain": [
       "(442, 100, 1)"
      ]
     },
     "execution_count": 35,
     "metadata": {},
     "output_type": "execute_result"
    }
   ],
   "source": [
    "x_test.shape"
   ]
  },
  {
   "cell_type": "code",
   "execution_count": 36,
   "id": "ae9fbe0f",
   "metadata": {},
   "outputs": [],
   "source": [
    "# predict the share price\n",
    "predictions=model.predict(x_test)\n",
    "predictions=scaler.inverse_transform(predictions)"
   ]
  },
  {
   "cell_type": "code",
   "execution_count": 37,
   "id": "d19b2aa9",
   "metadata": {},
   "outputs": [
    {
     "data": {
      "text/plain": [
       "(442, 1)"
      ]
     },
     "execution_count": 37,
     "metadata": {},
     "output_type": "execute_result"
    }
   ],
   "source": [
    "predictions.shape"
   ]
  },
  {
   "cell_type": "code",
   "execution_count": 38,
   "id": "fd455375",
   "metadata": {},
   "outputs": [
    {
     "data": {
      "text/plain": [
       "(442, 1)"
      ]
     },
     "execution_count": 38,
     "metadata": {},
     "output_type": "execute_result"
    }
   ],
   "source": [
    "y_test.shape"
   ]
  },
  {
   "cell_type": "code",
   "execution_count": 39,
   "id": "cd3b2c3c",
   "metadata": {},
   "outputs": [],
   "source": [
    "rmse=np.sqrt(np.mean(predictions-y_test)**2)"
   ]
  },
  {
   "cell_type": "code",
   "execution_count": 40,
   "id": "55c53809",
   "metadata": {},
   "outputs": [
    {
     "data": {
      "text/plain": [
       "694.4955745386029"
      ]
     },
     "execution_count": 40,
     "metadata": {},
     "output_type": "execute_result"
    }
   ],
   "source": [
    "rmse"
   ]
  },
  {
   "cell_type": "code",
   "execution_count": 41,
   "id": "539d890f",
   "metadata": {},
   "outputs": [
    {
     "data": {
      "text/plain": [
       "array([[ 8745.450195],\n",
       "       [ 7610.25    ],\n",
       "       [ 7801.049805],\n",
       "       [ 8317.849609],\n",
       "       [ 8641.450195],\n",
       "       [ 8660.25    ],\n",
       "       [ 8281.099609],\n",
       "       [ 8597.75    ],\n",
       "       [ 8253.799805],\n",
       "       [ 8083.799805],\n",
       "       [ 8792.200195],\n",
       "       [ 8748.75    ],\n",
       "       [ 9111.900391],\n",
       "       [ 8993.849609],\n",
       "       [ 8925.299805],\n",
       "       [ 8992.799805],\n",
       "       [ 9266.75    ],\n",
       "       [ 9261.849609],\n",
       "       [ 8981.450195],\n",
       "       [ 9187.299805],\n",
       "       [ 9313.900391],\n",
       "       [ 9154.400391],\n",
       "       [ 9282.299805],\n",
       "       [ 9380.900391],\n",
       "       [ 9553.349609],\n",
       "       [ 9859.900391],\n",
       "       [ 9293.5     ],\n",
       "       [ 9205.599609],\n",
       "       [ 9270.900391],\n",
       "       [ 9199.049805],\n",
       "       [ 9251.5     ],\n",
       "       [ 9239.200195],\n",
       "       [ 9196.549805],\n",
       "       [ 9383.549805],\n",
       "       [ 9142.75    ],\n",
       "       [ 9136.849609],\n",
       "       [ 8823.25    ],\n",
       "       [ 8879.099609],\n",
       "       [ 9066.549805],\n",
       "       [ 9106.25    ],\n",
       "       [ 9039.25    ],\n",
       "       [ 9029.049805],\n",
       "       [ 9314.950195],\n",
       "       [ 9490.099609],\n",
       "       [ 9580.299805],\n",
       "       [ 9826.150391],\n",
       "       [ 9979.099609],\n",
       "       [10061.549805],\n",
       "       [10029.099609],\n",
       "       [10142.150391],\n",
       "       [10167.450195],\n",
       "       [10046.650391],\n",
       "       [10116.150391],\n",
       "       [ 9902.      ],\n",
       "       [ 9972.900391],\n",
       "       [ 9813.700195],\n",
       "       [ 9914.      ],\n",
       "       [ 9881.150391],\n",
       "       [10091.650391],\n",
       "       [10244.400391],\n",
       "       [10311.200195],\n",
       "       [10471.      ],\n",
       "       [10305.299805],\n",
       "       [10288.900391],\n",
       "       [10383.      ],\n",
       "       [10312.400391],\n",
       "       [10302.099609],\n",
       "       [10430.049805],\n",
       "       [10551.700195],\n",
       "       [10607.349609],\n",
       "       [10763.650391],\n",
       "       [10799.650391],\n",
       "       [10705.75    ],\n",
       "       [10813.450195],\n",
       "       [10768.049805],\n",
       "       [10802.700195],\n",
       "       [10607.349609],\n",
       "       [10618.200195],\n",
       "       [10739.950195],\n",
       "       [10901.700195],\n",
       "       [11022.200195],\n",
       "       [11162.25    ],\n",
       "       [11132.599609],\n",
       "       [11215.450195],\n",
       "       [11194.150391],\n",
       "       [11131.799805],\n",
       "       [11300.549805],\n",
       "       [11202.849609],\n",
       "       [11102.150391],\n",
       "       [11073.450195],\n",
       "       [10891.599609],\n",
       "       [11095.25    ],\n",
       "       [11101.650391],\n",
       "       [11200.150391],\n",
       "       [11214.049805],\n",
       "       [11270.150391],\n",
       "       [11322.5     ],\n",
       "       [11308.400391],\n",
       "       [11300.450195],\n",
       "       [11178.400391],\n",
       "       [11247.099609],\n",
       "       [11385.349609],\n",
       "       [11408.400391],\n",
       "       [11312.200195],\n",
       "       [11371.599609],\n",
       "       [11466.450195],\n",
       "       [11472.25    ],\n",
       "       [11549.599609],\n",
       "       [11559.25    ],\n",
       "       [11647.599609],\n",
       "       [11387.5     ],\n",
       "       [11470.25    ],\n",
       "       [11535.      ],\n",
       "       [11527.450195],\n",
       "       [11333.849609],\n",
       "       [11355.049805],\n",
       "       [11317.349609],\n",
       "       [11278.      ],\n",
       "       [11449.25    ],\n",
       "       [11464.450195],\n",
       "       [11440.049805],\n",
       "       [11521.799805],\n",
       "       [11604.549805],\n",
       "       [11516.099609],\n",
       "       [11504.950195],\n",
       "       [11250.549805],\n",
       "       [11153.650391],\n",
       "       [11131.849609],\n",
       "       [10805.549805],\n",
       "       [11050.25    ],\n",
       "       [11227.549805],\n",
       "       [11222.400391],\n",
       "       [11247.549805],\n",
       "       [11416.950195],\n",
       "       [11503.349609],\n",
       "       [11662.400391],\n",
       "       [11738.849609],\n",
       "       [11834.599609],\n",
       "       [11914.200195],\n",
       "       [11930.950195],\n",
       "       [11934.5     ],\n",
       "       [11971.049805],\n",
       "       [11680.349609],\n",
       "       [11762.450195],\n",
       "       [11873.049805],\n",
       "       [11896.799805],\n",
       "       [11937.650391],\n",
       "       [11896.450195],\n",
       "       [11930.349609],\n",
       "       [11767.75    ],\n",
       "       [11889.400391],\n",
       "       [11729.599609],\n",
       "       [11670.799805],\n",
       "       [11642.400391],\n",
       "       [11669.150391],\n",
       "       [11813.5     ],\n",
       "       [11908.5     ],\n",
       "       [12120.299805],\n",
       "       [12263.549805],\n",
       "       [12461.049805],\n",
       "       [12631.099609],\n",
       "       [12749.150391],\n",
       "       [12690.799805],\n",
       "       [12719.950195],\n",
       "       [12874.200195],\n",
       "       [12938.25    ],\n",
       "       [12771.700195],\n",
       "       [12859.049805],\n",
       "       [12926.450195],\n",
       "       [13055.150391],\n",
       "       [12858.400391],\n",
       "       [12987.      ],\n",
       "       [12968.950195],\n",
       "       [13109.049805],\n",
       "       [13113.75    ],\n",
       "       [13133.900391],\n",
       "       [13258.549805],\n",
       "       [13355.75    ],\n",
       "       [13392.950195],\n",
       "       [13529.099609],\n",
       "       [13478.299805],\n",
       "       [13513.849609],\n",
       "       [13558.150391],\n",
       "       [13567.849609],\n",
       "       [13682.700195],\n",
       "       [13740.700195],\n",
       "       [13760.549805],\n",
       "       [13328.400391],\n",
       "       [13466.299805],\n",
       "       [13601.099609],\n",
       "       [13749.25    ],\n",
       "       [13873.200195],\n",
       "       [13932.599609],\n",
       "       [13981.950195],\n",
       "       [13981.75    ],\n",
       "       [14132.900391],\n",
       "       [14199.5     ],\n",
       "       [14146.25    ],\n",
       "       [14137.349609],\n",
       "       [14347.25    ],\n",
       "       [14484.75    ],\n",
       "       [14563.450195],\n",
       "       [14564.849609],\n",
       "       [14595.599609],\n",
       "       [14433.700195],\n",
       "       [14281.299805],\n",
       "       [14521.150391],\n",
       "       [14644.700195],\n",
       "       [14590.349609],\n",
       "       [14371.900391],\n",
       "       [14238.900391],\n",
       "       [13967.5     ],\n",
       "       [13817.549805],\n",
       "       [13634.599609],\n",
       "       [14281.200195],\n",
       "       [14647.849609],\n",
       "       [14789.950195],\n",
       "       [14895.650391],\n",
       "       [14924.25    ],\n",
       "       [15115.799805],\n",
       "       [15109.299805],\n",
       "       [15106.5     ],\n",
       "       [15173.299805],\n",
       "       [15163.299805],\n",
       "       [15314.700195],\n",
       "       [15313.450195],\n",
       "       [15208.900391],\n",
       "       [15118.950195],\n",
       "       [14981.75    ],\n",
       "       [14675.700195],\n",
       "       [14707.799805],\n",
       "       [14982.      ],\n",
       "       [15097.349609],\n",
       "       [14529.150391],\n",
       "       [14761.549805],\n",
       "       [14919.099609],\n",
       "       [15245.599609],\n",
       "       [15080.75    ],\n",
       "       [14938.099609],\n",
       "       [14956.200195],\n",
       "       [15098.400391],\n",
       "       [15174.799805],\n",
       "       [15030.950195],\n",
       "       [14929.5     ],\n",
       "       [14910.450195],\n",
       "       [14721.299805],\n",
       "       [14557.849609],\n",
       "       [14744.      ],\n",
       "       [14736.400391],\n",
       "       [14814.75    ],\n",
       "       [14549.400391],\n",
       "       [14324.900391],\n",
       "       [14507.299805],\n",
       "       [14845.099609],\n",
       "       [14690.700195],\n",
       "       [14867.349609],\n",
       "       [14637.799805],\n",
       "       [14683.5     ],\n",
       "       [14819.049805],\n",
       "       [14873.799805],\n",
       "       [14834.849609],\n",
       "       [14310.799805],\n",
       "       [14504.799805],\n",
       "       [14581.450195],\n",
       "       [14617.849609],\n",
       "       [14359.450195],\n",
       "       [14296.400391],\n",
       "       [14406.150391],\n",
       "       [14341.349609],\n",
       "       [14485.      ],\n",
       "       [14653.049805],\n",
       "       [14864.549805],\n",
       "       [14894.900391],\n",
       "       [14631.099609],\n",
       "       [14634.150391],\n",
       "       [14496.5     ],\n",
       "       [14617.849609],\n",
       "       [14724.799805],\n",
       "       [14823.150391],\n",
       "       [14942.349609],\n",
       "       [14850.75    ],\n",
       "       [14696.5     ],\n",
       "       [14677.799805],\n",
       "       [14923.150391],\n",
       "       [15108.099609],\n",
       "       [15030.150391],\n",
       "       [14906.049805],\n",
       "       [15175.299805],\n",
       "       [15197.700195],\n",
       "       [15208.450195],\n",
       "       [15301.450195],\n",
       "       [15337.849609],\n",
       "       [15435.650391],\n",
       "       [15582.799805],\n",
       "       [15574.849609],\n",
       "       [15576.200195],\n",
       "       [15690.349609],\n",
       "       [15670.25    ],\n",
       "       [15751.650391],\n",
       "       [15740.099609],\n",
       "       [15635.349609],\n",
       "       [15737.75    ],\n",
       "       [15799.349609],\n",
       "       [15811.849609],\n",
       "       [15869.25    ],\n",
       "       [15767.549805],\n",
       "       [15691.400391],\n",
       "       [15683.349609],\n",
       "       [15746.5     ],\n",
       "       [15772.75    ],\n",
       "       [15686.950195],\n",
       "       [15790.450195],\n",
       "       [15860.349609],\n",
       "       [15814.700195],\n",
       "       [15748.450195],\n",
       "       [15721.5     ],\n",
       "       [15680.      ],\n",
       "       [15722.200195],\n",
       "       [15834.349609],\n",
       "       [15818.25    ],\n",
       "       [15879.650391],\n",
       "       [15727.900391],\n",
       "       [15689.799805],\n",
       "       [15692.599609],\n",
       "       [15812.349609],\n",
       "       [15853.950195],\n",
       "       [15924.200195],\n",
       "       [15923.400391],\n",
       "       [15752.400391],\n",
       "       [15632.099609],\n",
       "       [15824.049805],\n",
       "       [15856.049805],\n",
       "       [15824.450195],\n",
       "       [15746.450195],\n",
       "       [15709.400391],\n",
       "       [15778.450195],\n",
       "       [15763.049805],\n",
       "       [15885.150391],\n",
       "       [16130.75    ],\n",
       "       [16258.799805],\n",
       "       [16294.599609],\n",
       "       [16238.200195],\n",
       "       [16258.25    ],\n",
       "       [16280.099609],\n",
       "       [16282.25    ],\n",
       "       [16364.400391],\n",
       "       [16529.099609],\n",
       "       [16563.050781],\n",
       "       [16614.599609],\n",
       "       [16568.849609],\n",
       "       [16450.5     ],\n",
       "       [16496.449219],\n",
       "       [16624.599609],\n",
       "       [16634.650391],\n",
       "       [16636.900391],\n",
       "       [16705.199219],\n",
       "       [16931.050781],\n",
       "       [17132.199219],\n",
       "       [17076.25    ],\n",
       "       [17234.150391],\n",
       "       [17323.599609],\n",
       "       [17377.800781],\n",
       "       [17362.099609],\n",
       "       [17353.5     ],\n",
       "       [17369.25    ],\n",
       "       [17355.300781],\n",
       "       [17380.      ],\n",
       "       [17519.449219],\n",
       "       [17629.5     ],\n",
       "       [17585.150391],\n",
       "       [17396.900391],\n",
       "       [17562.      ],\n",
       "       [17546.650391],\n",
       "       [17822.949219],\n",
       "       [17853.199219],\n",
       "       [17855.099609],\n",
       "       [17748.599609],\n",
       "       [17711.300781],\n",
       "       [17618.150391],\n",
       "       [17532.050781],\n",
       "       [17691.25    ],\n",
       "       [17822.300781],\n",
       "       [17646.      ],\n",
       "       [17790.349609],\n",
       "       [17895.199219],\n",
       "       [17945.949219],\n",
       "       [17991.949219],\n",
       "       [18161.75    ],\n",
       "       [18338.550781],\n",
       "       [18477.050781],\n",
       "       [18418.75    ],\n",
       "       [18266.599609],\n",
       "       [18178.099609],\n",
       "       [18114.900391],\n",
       "       [18125.400391],\n",
       "       [18268.400391],\n",
       "       [18210.949219],\n",
       "       [17857.25    ],\n",
       "       [17671.650391],\n",
       "       [17929.650391],\n",
       "       [17888.949219],\n",
       "       [17829.199219],\n",
       "       [17916.800781],\n",
       "       [18068.550781],\n",
       "       [18044.25    ],\n",
       "       [18017.199219],\n",
       "       [17873.599609],\n",
       "       [18102.75    ],\n",
       "       [18109.449219],\n",
       "       [17999.199219],\n",
       "       [17898.650391],\n",
       "       [17764.800781],\n",
       "       [17416.550781],\n",
       "       [17503.349609],\n",
       "       [17415.050781],\n",
       "       [17536.25    ],\n",
       "       [17026.449219],\n",
       "       [17053.949219],\n",
       "       [16983.199219],\n",
       "       [17166.900391],\n",
       "       [17401.650391],\n",
       "       [17196.699219],\n",
       "       [16912.25    ],\n",
       "       [17176.699219],\n",
       "       [17469.75    ],\n",
       "       [17516.849609],\n",
       "       [17511.300781],\n",
       "       [17368.25    ],\n",
       "       [17324.900391],\n",
       "       [17221.400391],\n",
       "       [17248.400391],\n",
       "       [16985.199219],\n",
       "       [16614.199219],\n",
       "       [16770.849609],\n",
       "       [16955.449219],\n",
       "       [17072.599609],\n",
       "       [17003.75    ],\n",
       "       [17086.25    ],\n",
       "       [17233.25    ],\n",
       "       [17213.599609],\n",
       "       [17203.949219],\n",
       "       [17354.050781]])"
      ]
     },
     "execution_count": 41,
     "metadata": {},
     "output_type": "execute_result"
    }
   ],
   "source": [
    "y_test"
   ]
  },
  {
   "cell_type": "code",
   "execution_count": 42,
   "id": "b25c8246",
   "metadata": {},
   "outputs": [],
   "source": [
    "train_data=close_data"
   ]
  },
  {
   "cell_type": "code",
   "execution_count": 43,
   "id": "2dfd3eac",
   "metadata": {},
   "outputs": [
    {
     "data": {
      "text/plain": [
       "(1475, 1)"
      ]
     },
     "execution_count": 43,
     "metadata": {},
     "output_type": "execute_result"
    }
   ],
   "source": [
    "train_data.shape"
   ]
  },
  {
   "cell_type": "code",
   "execution_count": 44,
   "id": "c8cb36dd",
   "metadata": {},
   "outputs": [
    {
     "data": {
      "text/html": [
       "<div>\n",
       "<style scoped>\n",
       "    .dataframe tbody tr th:only-of-type {\n",
       "        vertical-align: middle;\n",
       "    }\n",
       "\n",
       "    .dataframe tbody tr th {\n",
       "        vertical-align: top;\n",
       "    }\n",
       "\n",
       "    .dataframe thead th {\n",
       "        text-align: right;\n",
       "    }\n",
       "</style>\n",
       "<table border=\"1\" class=\"dataframe\">\n",
       "  <thead>\n",
       "    <tr style=\"text-align: right;\">\n",
       "      <th></th>\n",
       "      <th>Close</th>\n",
       "    </tr>\n",
       "    <tr>\n",
       "      <th>Date</th>\n",
       "      <th></th>\n",
       "    </tr>\n",
       "  </thead>\n",
       "  <tbody>\n",
       "    <tr>\n",
       "      <th>2021-12-31</th>\n",
       "      <td>17354.050781</td>\n",
       "    </tr>\n",
       "  </tbody>\n",
       "</table>\n",
       "</div>"
      ],
      "text/plain": [
       "                   Close\n",
       "Date                    \n",
       "2021-12-31  17354.050781"
      ]
     },
     "execution_count": 44,
     "metadata": {},
     "output_type": "execute_result"
    }
   ],
   "source": [
    "train_data.tail(1)"
   ]
  },
  {
   "cell_type": "code",
   "execution_count": 45,
   "id": "d7afd8a5",
   "metadata": {},
   "outputs": [
    {
     "data": {
      "text/html": [
       "<div>\n",
       "<style scoped>\n",
       "    .dataframe tbody tr th:only-of-type {\n",
       "        vertical-align: middle;\n",
       "    }\n",
       "\n",
       "    .dataframe tbody tr th {\n",
       "        vertical-align: top;\n",
       "    }\n",
       "\n",
       "    .dataframe thead th {\n",
       "        text-align: right;\n",
       "    }\n",
       "</style>\n",
       "<table border=\"1\" class=\"dataframe\">\n",
       "  <thead>\n",
       "    <tr style=\"text-align: right;\">\n",
       "      <th></th>\n",
       "      <th>Close</th>\n",
       "    </tr>\n",
       "    <tr>\n",
       "      <th>Date</th>\n",
       "      <th></th>\n",
       "    </tr>\n",
       "  </thead>\n",
       "  <tbody>\n",
       "    <tr>\n",
       "      <th>2022-01-03</th>\n",
       "      <td>17625.699219</td>\n",
       "    </tr>\n",
       "  </tbody>\n",
       "</table>\n",
       "</div>"
      ],
      "text/plain": [
       "                   Close\n",
       "Date                    \n",
       "2022-01-03  17625.699219"
      ]
     },
     "execution_count": 45,
     "metadata": {},
     "output_type": "execute_result"
    }
   ],
   "source": [
    "close_test_data=test.filter([\"Close\"]).dropna()\n",
    "\n",
    "close_test_data.head(1)\n"
   ]
  },
  {
   "cell_type": "code",
   "execution_count": 46,
   "id": "ac516582",
   "metadata": {},
   "outputs": [],
   "source": [
    "past_100=train_data.tail(100)"
   ]
  },
  {
   "cell_type": "code",
   "execution_count": 47,
   "id": "d519e242",
   "metadata": {},
   "outputs": [
    {
     "data": {
      "text/html": [
       "<div>\n",
       "<style scoped>\n",
       "    .dataframe tbody tr th:only-of-type {\n",
       "        vertical-align: middle;\n",
       "    }\n",
       "\n",
       "    .dataframe tbody tr th {\n",
       "        vertical-align: top;\n",
       "    }\n",
       "\n",
       "    .dataframe thead th {\n",
       "        text-align: right;\n",
       "    }\n",
       "</style>\n",
       "<table border=\"1\" class=\"dataframe\">\n",
       "  <thead>\n",
       "    <tr style=\"text-align: right;\">\n",
       "      <th></th>\n",
       "      <th>Close</th>\n",
       "    </tr>\n",
       "    <tr>\n",
       "      <th>Date</th>\n",
       "      <th></th>\n",
       "    </tr>\n",
       "  </thead>\n",
       "  <tbody>\n",
       "    <tr>\n",
       "      <th>2021-12-31</th>\n",
       "      <td>17354.050781</td>\n",
       "    </tr>\n",
       "  </tbody>\n",
       "</table>\n",
       "</div>"
      ],
      "text/plain": [
       "                   Close\n",
       "Date                    \n",
       "2021-12-31  17354.050781"
      ]
     },
     "execution_count": 47,
     "metadata": {},
     "output_type": "execute_result"
    }
   ],
   "source": [
    "past_100.tail(1)"
   ]
  },
  {
   "cell_type": "code",
   "execution_count": 48,
   "id": "f1cd5ceb",
   "metadata": {},
   "outputs": [],
   "source": [
    "final_df=past_100.append(close_test_data)"
   ]
  },
  {
   "cell_type": "code",
   "execution_count": 49,
   "id": "d515109a",
   "metadata": {},
   "outputs": [
    {
     "data": {
      "text/plain": [
       "<AxesSubplot:xlabel='Date'>"
      ]
     },
     "execution_count": 49,
     "metadata": {},
     "output_type": "execute_result"
    },
    {
     "data": {
      "image/png": "[encoded data removed]",
      "text/plain": [
       "<Figure size 432x288 with 1 Axes>"
      ]
     },
     "metadata": {
      "needs_background": "light"
     },
     "output_type": "display_data"
    }
   ],
   "source": [
    "final_df.plot()"
   ]
  },
  {
   "cell_type": "code",
   "execution_count": 50,
   "id": "a1917e52",
   "metadata": {},
   "outputs": [
    {
     "data": {
      "text/plain": [
       "array([[16127.164],\n",
       "       [16057.447],\n",
       "       [16026.267],\n",
       "       [16003.956],\n",
       "       [15967.533],\n",
       "       [15948.838],\n",
       "       [15965.154],\n",
       "       [16004.047],\n",
       "       [16052.947],\n",
       "       [16092.394],\n",
       "       [16120.013],\n",
       "       [16129.958],\n",
       "       [16131.022],\n",
       "       [16105.202],\n",
       "       [16036.692],\n",
       "       [15962.752],\n",
       "       [15906.008],\n",
       "       [15873.271],\n",
       "       [15852.061],\n",
       "       [15846.906],\n",
       "       [15863.568],\n",
       "       [15889.915],\n",
       "       [15919.325]], dtype=float32)"
      ]
     },
     "execution_count": 50,
     "metadata": {},
     "output_type": "execute_result"
    }
   ],
   "source": [
    "predictions[442-23:]"
   ]
  },
  {
   "cell_type": "code",
   "execution_count": 51,
   "id": "5433e7c0",
   "metadata": {},
   "outputs": [
    {
     "data": {
      "image/png": "[encoded data removed]",
      "text/plain": [
       "<Figure size 864x432 with 1 Axes>"
      ]
     },
     "metadata": {
      "needs_background": "light"
     },
     "output_type": "display_data"
    }
   ],
   "source": [
    "# Plot the graph between prediction and original test data for validation\n",
    "\n",
    "plt.figure(figsize=(12,6))\n",
    "plt.plot(close_test_data.values,\"b\",label=\"Original Test Price\")\n",
    "plt.plot(predictions[442-23:],\"r\",label=\"Predicted Test Price\")\n",
    "plt.xlabel(\"Time\")\n",
    "plt.ylabel(\"Price\")\n",
    "plt.legend()\n",
    "plt.show()"
   ]
  },
  {
   "cell_type": "code",
   "execution_count": 52,
   "id": "5df2d167",
   "metadata": {},
   "outputs": [
    {
     "name": "stdout",
     "output_type": "stream",
     "text": [
      "Test data RMSE:  841.896786332433\n",
      "Test data MSE:  708790.1988368782\n",
      "Test data MAE:  727.9136051537047\n",
      "Test data R2 score: 0.9121602382433951\n",
      "Test data MAPE: 0.049537481988255645\n"
     ]
    }
   ],
   "source": [
    "# Evaluation metrices RMSE and MAE\n",
    "print(\"Test data RMSE: \", math.sqrt(mean_squared_error(predictions,y_test)))\n",
    "print(\"Test data MSE: \", mean_squared_error(y_test, predictions))\n",
    "print(\"Test data MAE: \", mean_absolute_error(y_test, predictions))\n",
    "print(\"Test data R2 score:\", r2_score(y_test, predictions))\n",
    "print(\"Test data MAPE:\", mean_absolute_percentage_error(y_test, predictions))\n"
   ]
  },
  {
   "cell_type": "code",
   "execution_count": null,
   "id": "60a6207c",
   "metadata": {},
   "outputs": [],
   "source": []
  }
 ],
 "metadata": {
  "kernelspec": {
   "display_name": "Python 3",
   "language": "python",
   "name": "python3"
  },
  "language_info": {
   "codemirror_mode": {
    "name": "ipython",
    "version": 3
   },
   "file_extension": ".py",
   "mimetype": "text/x-python",
   "name": "python",
   "nbconvert_exporter": "python",
   "pygments_lexer": "ipython3",
   "version": "3.8.8"
  }
 },
 "nbformat": 4,
 "nbformat_minor": 5
}
